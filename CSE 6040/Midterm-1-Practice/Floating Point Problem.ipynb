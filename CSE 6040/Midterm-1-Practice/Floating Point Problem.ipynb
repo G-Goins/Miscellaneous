{
 "cells": [
  {
   "cell_type": "markdown",
   "metadata": {
    "deletable": false,
    "editable": false,
    "nbgrader": {
     "grade": false,
     "locked": true,
     "solution": false
    }
   },
   "source": [
    "# Problem 9: Maximum likelihood and floating-point\n",
    "\n",
    "This problem concerns floating-point arithmetic, motivated by the statistical concept of maximum likelihood estimation. It has four exercises, numbered 0-3, and is worth a total of ten (10) points."
   ]
  },
  {
   "cell_type": "markdown",
   "metadata": {},
   "source": [
    "**Setup.** This problem involves a number of functions from the Python standard library. Here are some of them; run the code cell below to make them available for use."
   ]
  },
  {
   "cell_type": "code",
   "execution_count": 1,
   "metadata": {
    "collapsed": true,
    "deletable": false,
    "editable": false,
    "nbgrader": {
     "grade": false,
     "locked": true,
     "solution": false
    }
   },
   "outputs": [],
   "source": [
    "# The test cells need these:\n",
    "from random import choice, randint, uniform, shuffle\n",
    "from math import isclose\n",
    "\n",
    "# You'll need these in Exercises 1 & 3:\n",
    "from math import exp, sqrt, pi, log"
   ]
  },
  {
   "cell_type": "markdown",
   "metadata": {
    "deletable": false,
    "editable": false,
    "nbgrader": {
     "grade": false,
     "locked": true,
     "solution": false
    }
   },
   "source": [
    "## Products\n",
    "\n",
    "Suppose you are given a collection of $n$ data values, named $x_0$, $x_1$, $\\ldots$, $x_{n-1}$. Mathematically, we denote their sum as\n",
    "\n",
    "$$\n",
    "  x_0 + x_1 + \\cdots + x_{n-1} \\equiv \\sum_{k=0}^{n-1} x_i.\n",
    "$$\n",
    "\n",
    "In Python, it's easy to implement this formula using the `sum()` function, which can sum the elements of any iterable collection, like a list:"
   ]
  },
  {
   "cell_type": "code",
   "execution_count": 2,
   "metadata": {
    "deletable": false,
    "editable": false,
    "nbgrader": {
     "grade": false,
     "locked": true,
     "solution": false
    }
   },
   "outputs": [
    {
     "name": "stdout",
     "output_type": "stream",
     "text": [
      "sum([1, 2, 3, 4, 5]) == 15\n"
     ]
    }
   ],
   "source": [
    "x = [1, 2, 3, 4, 5]\n",
    "print(\"sum({}) == {}\".format(x, sum(x)))"
   ]
  },
  {
   "cell_type": "markdown",
   "metadata": {
    "deletable": false,
    "editable": false,
    "nbgrader": {
     "grade": false,
     "locked": true,
     "solution": false
    }
   },
   "source": [
    "Suppose instead that we wish to compute the _product_ of these values:\n",
    "\n",
    "$$\n",
    "    x_0 \\cdot x_1 \\cdot \\cdots \\cdot x_{n-1} \\equiv \\prod_{k=0}^{n-1} x_i.\n",
    "$$"
   ]
  },
  {
   "cell_type": "markdown",
   "metadata": {
    "deletable": false,
    "editable": false,
    "nbgrader": {
     "grade": false,
     "locked": true,
     "solution": false
    }
   },
   "source": [
    "**Exercise 0** (3 points). Write a function, `product(x)`, that returns the product of a collection of numbers `x`."
   ]
  },
  {
   "cell_type": "code",
   "execution_count": 3,
   "metadata": {},
   "outputs": [
    {
     "name": "stdout",
     "output_type": "stream",
     "text": [
      "product([1, 2, 3, 4, 5]) == 120?\n"
     ]
    }
   ],
   "source": [
    "def product(x):\n",
    "    # Initialize the final number\n",
    "    p = 1\n",
    "    # Iterate over x\n",
    "    for xi in x:\n",
    "        p*= xi #by multiplying p by each element\n",
    "    return p\n",
    "    \n",
    "# Demo:\n",
    "print(\"product({}) == {}?\".format(x, product(x))) # Should be 120"
   ]
  },
  {
   "cell_type": "code",
   "execution_count": 4,
   "metadata": {
    "deletable": false,
    "editable": false,
    "nbgrader": {
     "grade": true,
     "grade_id": "product_test0",
     "locked": true,
     "points": "1",
     "solution": false
    }
   },
   "outputs": [
    {
     "name": "stdout",
     "output_type": "stream",
     "text": [
      "5 values: [1, 2, 3, 4, 5]\n",
      "  => Your result: 120\n",
      "  => After dividing by input values: 1.0\n",
      "\n",
      "(Passed first test!)\n"
     ]
    }
   ],
   "source": [
    "# Test cell: `product_test0` (1 point)\n",
    "\n",
    "def check_product(x_or_n):\n",
    "    import numpy as np\n",
    "    eps = np.finfo(float).eps\n",
    "    def delim_vals(x, s=', ', fmt=str):\n",
    "        return s.join([fmt(xi) for xi in x])\n",
    "    def gen_val(do_int):\n",
    "        if do_int:\n",
    "            v = randint(-100, 100)\n",
    "            while v == 0:\n",
    "                v = randint(-100, 100)\n",
    "            assert v != 0\n",
    "        else:\n",
    "            v = uniform(-10, 10)\n",
    "        return v\n",
    "    \n",
    "    if type(x_or_n) is int:\n",
    "        n = x_or_n\n",
    "        do_int = choice([False, True])\n",
    "        x = [gen_val(do_int) for _ in range(n)]\n",
    "    else:\n",
    "        x = x_or_n\n",
    "        n = len(x)\n",
    "        \n",
    "    if n > 10:\n",
    "        msg_values = \"{}, ..., {}\".format(n, delim_vals(x[:5]), delim_vals(x[-5:]))\n",
    "    else:\n",
    "        msg_values = delim_vals(x)\n",
    "    msg = \"{} values: [{}]\".format(n, msg_values)\n",
    "    print(msg)\n",
    "    p = product(x)\n",
    "    print(\"  => Your result: {}\".format(p))\n",
    "    \n",
    "    # Check\n",
    "    for xi in x:\n",
    "        p /= xi\n",
    "    abs_err = p - 1.0\n",
    "    print(\"  => After dividing by input values: {}\".format(p))\n",
    "    assert abs(p-1.0) <= (20.0 / n) * eps, \\\n",
    "           \"Dividing your result by the individual values is {}, which is a bit too far from 1.0\".format(abs_err)\n",
    "\n",
    "check_product([1, 2, 3, 4, 5]) == 120\n",
    "print(\"\\n(Passed first test!)\")"
   ]
  },
  {
   "cell_type": "code",
   "execution_count": 5,
   "metadata": {
    "deletable": false,
    "editable": false,
    "nbgrader": {
     "grade": true,
     "grade_id": "product_test1",
     "locked": true,
     "points": "2",
     "solution": false
    }
   },
   "outputs": [
    {
     "name": "stdout",
     "output_type": "stream",
     "text": [
      "=== Test 0 ===\n",
      "10 values: [43, -95, 49, 20, 80, -46, 8, 31, -16, 50]\n",
      "  => Your result: -2922857369600000\n",
      "  => After dividing by input values: 1.0\n",
      "\n",
      "=== Test 1 ===\n",
      "10 values: [98, -28, -80, 78, -22, 42, -40, -43, -30, -65]\n",
      "  => Your result: -53064457205760000\n",
      "  => After dividing by input values: 1.0\n",
      "\n",
      "=== Test 2 ===\n",
      "10 values: [38, -86, 5, 46, 99, 94, 52, -75, -1, 78]\n",
      "  => Your result: -2127806551728000\n",
      "  => After dividing by input values: 1.0\n",
      "\n",
      "=== Test 3 ===\n",
      "10 values: [-4.412516169537688, -9.5598779008757, -5.106374464471786, 6.62895659793573, 4.578161324266519, 2.91235081364929, -9.559464084548395, 9.290680085945919, 8.299566712033783, -4.580176490728023]\n",
      "  => Your result: -64276164.800617136\n",
      "  => After dividing by input values: 1.0000000000000002\n",
      "\n",
      "=== Test 4 ===\n",
      "10 values: [-8.377355969538609, -5.620645061854372, -7.542752521405916, 8.565860957194765, 7.005575695772716, 2.311070224318355, -2.0582320889198247, -4.636380180376616, -1.9170694364666314, -2.446364177018774]\n",
      "  => Your result: -2204364.049241331\n",
      "  => After dividing by input values: 0.9999999999999998\n",
      "\n",
      "(Passed second battery of tests!)\n"
     ]
    }
   ],
   "source": [
    "# Test cell: `product_test1` (2 points)\n",
    "for k in range(5):\n",
    "    print(\"=== Test {} ===\".format(k))\n",
    "    check_product(10)\n",
    "    print()\n",
    "print(\"(Passed second battery of tests!)\")"
   ]
  },
  {
   "cell_type": "markdown",
   "metadata": {
    "deletable": false,
    "editable": false,
    "nbgrader": {
     "grade": false,
     "locked": true,
     "solution": false
    }
   },
   "source": [
    "## Gaussian distributions\n",
    "\n",
    "Recall that the probability density of a _normal_ or _Gaussian_ distribution with mean $\\mu$ and variance $\\sigma^2$ is,\n",
    "\n",
    "$$\n",
    "g(x) \\equiv \\frac{1}{\\sigma \\sqrt{2 \\pi}} \\exp\\left[ -\\frac{1}{2} \\left(\\frac{x-\\mu}{\\sigma}\\right)^2 \\right].\n",
    "$$\n",
    "\n",
    "While $\\sigma^2$ denotes the variance, the _standard deviation_ is $\\sigma$. You may assume $\\sigma > 0$."
   ]
  },
  {
   "cell_type": "markdown",
   "metadata": {
    "deletable": false,
    "editable": false,
    "nbgrader": {
     "grade": false,
     "locked": true,
     "solution": false
    }
   },
   "source": [
    "**Exercise 1** (1 point). Write a function `gaussian0(x, mu, sigma)` that returns $g(x)$ given one floating-point value `x`, a mean value `mu`, and standard deviation `sigma`.\n",
    "\n",
    "For example,\n",
    "\n",
    "```python\n",
    "   gaussian0(1.0, 0.0, 1.0)\n",
    "```\n",
    "\n",
    "should return the value $\\frac{1}{\\sqrt{2\\pi}} \\exp(-0.5) \\approx 0.2419707\\ldots$.\n",
    "\n",
    "> In the signature below, `mu` and `sigma` are set to accept default values of 0.0 and 1.0, respectively. But your function should work for any value of `mu` and any `sigma > 0`."
   ]
  },
  {
   "cell_type": "code",
   "execution_count": 6,
   "metadata": {
    "nbgrader": {
     "grade": false,
     "locked": false,
     "solution": false
    }
   },
   "outputs": [
    {
     "name": "stdout",
     "output_type": "stream",
     "text": [
      "0.24197072451914337\n"
     ]
    }
   ],
   "source": [
    "def gaussian0(x, mu=0.0, sigma=1.0):\n",
    "    \n",
    "    \n",
    "    return (1/(sigma*sqrt(2*pi))) * \\\n",
    "        exp(-.5 * ((x-mu)/sigma)**2)\n",
    "\n",
    "print(gaussian0(1.0)) # Should get 0.24197072451914..."
   ]
  },
  {
   "cell_type": "code",
   "execution_count": 7,
   "metadata": {
    "deletable": false,
    "editable": false,
    "nbgrader": {
     "grade": true,
     "grade_id": "gaussian0_test",
     "locked": true,
     "points": "1",
     "solution": false
    }
   },
   "outputs": [
    {
     "name": "stdout",
     "output_type": "stream",
     "text": [
      "Test case #0: x=1.0, mu=0.0, sigma=1.0\n",
      "==> Passed.\n",
      "Test case #1: x=7.290466514079501, mu=9.71974014941194, sigma=4.809421844071632\n",
      "==> Passed.\n",
      "Test case #2: x=-5.918016646488109, mu=-0.26251028176856295, sigma=2.549527429002763\n",
      "==> Passed.\n",
      "Test case #3: x=-7.227659172005783, mu=-9.718139022489945, sigma=2.5720040917862756\n",
      "==> Passed.\n",
      "Test case #4: x=1.8098900873954307, mu=6.661779498092152, sigma=1.3179393779956614\n",
      "==> Passed.\n",
      "Test case #5: x=-9.609291835155375, mu=8.53411876639057, sigma=7.9671761080918015\n",
      "==> Passed.\n",
      "\n",
      "(Passed!)\n"
     ]
    }
   ],
   "source": [
    "# Test cell: `gaussian0_test` (1 point)\n",
    "\n",
    "def check_gaussian0(x=None, mu=None, sigma=None, k=None):       \n",
    "    if x is None:\n",
    "        x = uniform(-10, 10)\n",
    "    if mu is None:\n",
    "        mu = uniform(-10, 10)\n",
    "    if sigma is None:\n",
    "        sigma = uniform(1e-15, 10)\n",
    "    if k is None:\n",
    "        k_str = \"\"\n",
    "    else:\n",
    "        k_str = \" #{}\".format(k)\n",
    "    assert type(x) is float and type(mu) is float and type(sigma) is float\n",
    "    print(\"Test case{}: x={}, mu={}, sigma={}\".format(k_str, x, mu, sigma))\n",
    "    your_result = gaussian0(x, mu, sigma)\n",
    "    log_your_result = log(your_result)\n",
    "    log_true_result = -0.5*((x - mu)/sigma)**2 - log(sigma*sqrt(2*pi))\n",
    "    assert isclose(log_your_result, log_true_result, rel_tol=1e-9), \"Test case failed!\"\n",
    "    print(\"==> Passed.\")\n",
    "    \n",
    "check_gaussian0(x=1.0, mu=0.0, sigma=1.0, k=0)\n",
    "\n",
    "for k in range(1, 6):\n",
    "    check_gaussian0(k=k)\n",
    "    \n",
    "print(\"\\n(Passed!)\")"
   ]
  },
  {
   "cell_type": "markdown",
   "metadata": {
    "deletable": false,
    "editable": false,
    "nbgrader": {
     "grade": false,
     "locked": true,
     "solution": false
    }
   },
   "source": [
    "**Exercise 2** (1 point). Suppose you are now given a _list_ of values, $x_0$, $x_1$, $\\ldots$, $x_{n-1}$. Write a function, `gaussians()`, that returns the collection of $g(x_i)$ values, also as a list, given specific values of $\\mu$ and $\\sigma$.\n",
    "\n",
    "For example:\n",
    "\n",
    "```python\n",
    "gaussian0(-2, 7.0, 1.23) == 7.674273364934753e-13\n",
    "gaussian0(1, 7.0, 1.23) == 2.2075380785334786e-06\n",
    "gaussian0(3.5, 7.0, 1.23) == 0.0056592223086500545\n",
    "```\n",
    "\n",
    "Therefore,\n",
    "\n",
    "```python\n",
    "gaussians([-2, 1, 3.5], 7.0, 1.23) == [7.674273364934753e-13, 2.2075380785334786e-06, 0.0056592223086500545]\n",
    "```"
   ]
  },
  {
   "cell_type": "code",
   "execution_count": 8,
   "metadata": {},
   "outputs": [
    {
     "name": "stdout",
     "output_type": "stream",
     "text": [
      "[7.674273364934753e-13, 2.2075380785334786e-06, 0.0056592223086500545]\n"
     ]
    }
   ],
   "source": [
    "def gaussians(X, mu=0.0, sigma=1.0):\n",
    "    assert type(X) is list\n",
    "    return [gaussian0(xi, mu, sigma) for xi in X]\n",
    "    \n",
    "print(gaussians([-2, 1, 3.5], 7.0, 1.23))"
   ]
  },
  {
   "cell_type": "code",
   "execution_count": 9,
   "metadata": {
    "deletable": false,
    "editable": false,
    "nbgrader": {
     "grade": true,
     "grade_id": "gaussians_test",
     "locked": true,
     "points": "1",
     "solution": false
    }
   },
   "outputs": [
    {
     "name": "stdout",
     "output_type": "stream",
     "text": [
      "\n",
      "(Passed!)\n"
     ]
    }
   ],
   "source": [
    "# Test cell: `gaussians_test` (1 point)\n",
    "\n",
    "mu = uniform(-10, 10)\n",
    "sigma = uniform(1e-15, 10)\n",
    "X = [uniform(-10, 10) for _ in range(10)]\n",
    "g_X = gaussians(X, mu, sigma)\n",
    "for xi, gi in zip(X, g_X):\n",
    "    assert isclose(gi, gaussian0(xi, mu, sigma))\n",
    "\n",
    "print(\"\\n(Passed!)\")"
   ]
  },
  {
   "cell_type": "markdown",
   "metadata": {
    "deletable": false,
    "editable": false,
    "nbgrader": {
     "grade": false,
     "locked": true,
     "solution": false
    }
   },
   "source": [
    "## Likelihoods and log-likelihoods\n",
    "\n",
    "In statistics, one technique to fit a function to data is a procedure known as _maximum likelihood estimation (MLE)_. At the heart of this method, one needs to calculate a special function known as the _likelihood function_, or just the _likelihood_. Here is how it is defined.\n",
    "\n",
    "Let $x_0$, $x_1$, $\\ldots$, $x_{n-1}$ denote a set of $n$ input data points. The likelihood of these data, $L(x_0, \\ldots, x_{n-1})$, is defined to be\n",
    "\n",
    "$$\n",
    "L(x_0, \\ldots, x_{n-1}) \\equiv \\prod_{k=0}^{n-1} p(x_i),\n",
    "$$\n",
    "\n",
    "where $p(x_i)$ is some probability density function that you believe is a good model of the data. The MLE procedure tries to choose model parameters that maximize $L(\\ldots)$.\n",
    "\n",
    "In this problem, let's suppose for simplicity that $p(x)$ is a normal or Gaussian distribution with mean $\\mu$ and variance $\\sigma^2$, meaning that $p(x_i) = g(x_i)$. Here is a straightforward way to implement $L(\\ldots)$ in Python."
   ]
  },
  {
   "cell_type": "code",
   "execution_count": 10,
   "metadata": {
    "deletable": false,
    "editable": false,
    "nbgrader": {
     "grade": false,
     "locked": true,
     "solution": false
    }
   },
   "outputs": [
    {
     "name": "stdout",
     "output_type": "stream",
     "text": [
      "1.1519989328102467e-14\n"
     ]
    }
   ],
   "source": [
    "def likelihood_gaussian(x, mu=0.0, sigma=1.0):\n",
    "    assert type(x) is list\n",
    "    \n",
    "    g_all = gaussians(x, mu, sigma)\n",
    "    L = product(g_all)\n",
    "    return L\n",
    "\n",
    "print(likelihood_gaussian(x))"
   ]
  },
  {
   "cell_type": "markdown",
   "metadata": {
    "deletable": false,
    "editable": false,
    "nbgrader": {
     "grade": false,
     "locked": true,
     "solution": false
    }
   },
   "source": [
    "The problem is that you might need to multiply many small values. Then, due to the limits of finite-precision arithmetic, the likelihood can quickly go to zero, becoming meaningless, even for a small number of data points."
   ]
  },
  {
   "cell_type": "code",
   "execution_count": 11,
   "metadata": {
    "deletable": false,
    "editable": false,
    "nbgrader": {
     "grade": false,
     "locked": true,
     "solution": false
    }
   },
   "outputs": [
    {
     "name": "stdout",
     "output_type": "stream",
     "text": [
      "n=1: likelihood ~= 0.12061454473727289.\n",
      "n=2: likelihood ~= 0.022112183700558535.\n",
      "n=4: likelihood ~= 9.987774311127027e-31.\n",
      "n=8: likelihood ~= 1.1173322958904756e-39.\n",
      "n=16: likelihood ~= 3.845165499195046e-109.\n",
      "n=32: likelihood ~= 3.214523394172732e-212.\n",
      "n=64: likelihood ~= 0.0.\n",
      "n=128: likelihood ~= 0.0.\n"
     ]
    }
   ],
   "source": [
    "# Generate many random values\n",
    "N = [int(2**k) for k in range(8)]\n",
    "X = [uniform(-10, 10) for _ in range(max(N))]\n",
    "\n",
    "# Evaluate the likelihood for different numbers of these values:\n",
    "for n in N:\n",
    "    print(\"n={}: likelihood ~= {}.\".format(n, likelihood_gaussian(X[:n])))"
   ]
  },
  {
   "cell_type": "markdown",
   "metadata": {
    "deletable": false,
    "editable": false,
    "nbgrader": {
     "grade": false,
     "locked": true,
     "solution": false
    }
   },
   "source": [
    "Recall that the smallest representable value in double-precision floating-point is $\\approx 10^{-308}$. Therefore, if the true exponent falls below that value, we cannot store it. You should see this behavior above."
   ]
  },
  {
   "cell_type": "markdown",
   "metadata": {
    "deletable": false,
    "editable": false,
    "nbgrader": {
     "grade": false,
     "locked": true,
     "solution": false
    }
   },
   "source": [
    "One alternative is to compute the _log-likelihood_, which is defined simply as the (natural) logarithm of the likelihood:\n",
    "\n",
    "$$\n",
    "  \\mathcal{L}(x_0, \\ldots, x_{n-1}) \\equiv \\log L(x_0, \\ldots, x_{n-1}).\n",
    "$$\n",
    "\n",
    "Log-transforming the likelihood has a nice feature: the location of the maximum value will not change. Therefore, maximizing the log-likelihood is equivalent to maximizing the (plain) likelihood.\n",
    "\n",
    "Let's repeat the experiment above but also print the log-likelihood along with the likelihood:"
   ]
  },
  {
   "cell_type": "code",
   "execution_count": 12,
   "metadata": {
    "deletable": false,
    "editable": false,
    "nbgrader": {
     "grade": false,
     "locked": true,
     "solution": false
    }
   },
   "outputs": [
    {
     "name": "stdout",
     "output_type": "stream",
     "text": [
      "n=1: likelihood ~= 0.12061454473727289 and log-likelihood ~= -2.115155398832725.\n",
      "n=2: likelihood ~= 0.022112183700558535 and log-likelihood ~= -3.8116265236999043.\n",
      "n=4: likelihood ~= 9.987774311127027e-31 and log-likelihood ~= -69.07877610665568.\n",
      "n=8: likelihood ~= 1.1173322958904756e-39 and log-likelihood ~= -89.68987466131546.\n",
      "n=16: likelihood ~= 3.845165499195046e-109 and log-likelihood ~= -249.63495849161615.\n",
      "n=32: likelihood ~= 3.214523394172732e-212 and log-likelihood ~= -486.9803606124627.\n",
      "n=64: likelihood ~= 0.0 and log-likelihood ~= -inf.\n",
      "n=128: likelihood ~= 0.0 and log-likelihood ~= -inf.\n"
     ]
    }
   ],
   "source": [
    "for n in N:\n",
    "    L_n = likelihood_gaussian(X[:n])\n",
    "    try:\n",
    "        log_L_n = log(L_n)\n",
    "    except ValueError:\n",
    "        from math import inf\n",
    "        log_L_n = -inf\n",
    "    print(\"n={}: likelihood ~= {} and log-likelihood ~= {}.\".format(n, L_n, log_L_n))"
   ]
  },
  {
   "cell_type": "markdown",
   "metadata": {
    "deletable": false,
    "editable": false,
    "nbgrader": {
     "grade": false,
     "locked": true,
     "solution": false
    }
   },
   "source": [
    "At first, it looks good: the log-likelihood is much smaller than the likelihood. Therefore, you can calculate it for a much larger number of data points.\n",
    "\n",
    "But the problem persists: just taking $\\log L(\\ldots)$ doesn't help. When $L(\\ldots)$ rounds to zero, taking the $\\log$ produces minus infinity. For this last exercise, you need to fix this problem."
   ]
  },
  {
   "cell_type": "markdown",
   "metadata": {
    "deletable": false,
    "editable": false,
    "nbgrader": {
     "grade": false,
     "locked": true,
     "solution": false
    }
   },
   "source": [
    "**Exercise 3** (5 points). Using the fact that $\\log$ and $\\exp$ are inverses of one another, i.e., $\\log (\\exp x) = x$, come up with a way to compute the log-likelihood that can handle larger values of `n`.\n",
    "\n",
    "For example, in the case of `n=128`, your function should produce a finite value rather than $-\\infty$.\n",
    "\n",
    "> _Hint._ In addition to the inverse relationship between $\\log$ and $\\exp$, use the algebraic fact that $\\log(a \\cdot b) = \\log a + \\log b$ to derive a different way to comptue log-likelihood."
   ]
  },
  {
   "cell_type": "code",
   "execution_count": 13,
   "metadata": {
    "collapsed": true
   },
   "outputs": [],
   "source": [
    "def log_likelihood_gaussian(X, mu=0.0, sigma=1.0):\n",
    "    \n",
    "    # Define a new function that is our first function but taking\n",
    "    # the opposite of the exp, the log by replacing the 1/ in the first portion\n",
    "    # and replacing with the negative log and adding the exponent part\n",
    "    def log_gaussian(x):\n",
    "        return -log(sigma*sqrt(2*pi)) + (-.5) * ((x-mu)/sigma)**2\n",
    "    return sum([log_gaussian(xi) for xi in X])\n",
    "        \n"
   ]
  },
  {
   "cell_type": "code",
   "execution_count": 14,
   "metadata": {
    "deletable": false,
    "editable": false,
    "nbgrader": {
     "grade": true,
     "grade_id": "log_likelihood_gaussian_test0",
     "locked": true,
     "points": "2",
     "solution": false
    }
   },
   "outputs": [
    {
     "name": "stdout",
     "output_type": "stream",
     "text": [
      "n=1: log-likelihood ~= -2.1151553988327256.\n",
      "n=2: log-likelihood ~= -3.8116265236999047.\n",
      "n=4: log-likelihood ~= -69.07877610665568.\n",
      "n=8: log-likelihood ~= -89.68987466131546.\n",
      "n=16: log-likelihood ~= -249.63495849161615.\n",
      "n=32: log-likelihood ~= -486.9803606124626.\n",
      "n=64: log-likelihood ~= -981.5992819194423.\n",
      "n=128: log-likelihood ~= -2103.641175896729.\n",
      "\n",
      "(Passed!)\n"
     ]
    }
   ],
   "source": [
    "# Test cell: `log_likelihood_gaussian_test0` (2 points)\n",
    "\n",
    "# Check that the experiment runs to completion (no exceptions)\n",
    "for n in N:\n",
    "    log_L_n = log_likelihood_gaussian(X[:n])\n",
    "    print(\"n={}: log-likelihood ~= {}.\".format(n, log_L_n))\n",
    "    \n",
    "print(\"\\n(Passed!)\")"
   ]
  },
  {
   "cell_type": "code",
   "execution_count": 15,
   "metadata": {
    "deletable": false,
    "editable": false,
    "nbgrader": {
     "grade": true,
     "grade_id": "log_likelihood_gaussian_test1",
     "locked": true,
     "points": "3",
     "solution": false
    }
   },
   "outputs": [
    {
     "name": "stdout",
     "output_type": "stream",
     "text": [
      "\n",
      "(Passed!)\n"
     ]
    }
   ],
   "source": [
    "# Test cell: `log_likelihood_gaussian_test1` (3 points)\n",
    "\n",
    "for k in range(100):\n",
    "    mu = uniform(-10, 10)\n",
    "    sigma = uniform(1e-15, 10)\n",
    "    x0 = uniform(-10, 10)\n",
    "    nc = randint(1, 5)\n",
    "    n0s = [randint(1, 16384) for _ in range(nc)]\n",
    "    x0s = [uniform(-10, 10) for _ in range(nc)]\n",
    "    log_L_true = 0.0\n",
    "    X = []\n",
    "    for c, x0, n0 in zip(range(nc), x0s, n0s):\n",
    "        X += [x0] * n0\n",
    "        log_L_true += n0 * (-0.5*((x0 - mu)/sigma)**2 - log(sigma*sqrt(2*pi)))\n",
    "    shuffle(X)\n",
    "    log_L_you = log_likelihood_gaussian(X, mu, sigma)\n",
    "    msg = \"Test case {} failed: mu={}, sigma={}, nc={}, x0s={}, n0s={}, N={}, true={}, you={}\".format(k, mu, sigma, nc, x0s, n0s, len(X), log_L_true, log_L_you)\n",
    "    assert isclose(log_L_you, log_L_true, rel_tol=len(X)*1e-10), msg\n",
    "    \n",
    "print(\"\\n(Passed!)\")"
   ]
  },
  {
   "cell_type": "markdown",
   "metadata": {
    "deletable": false,
    "editable": false,
    "nbgrader": {
     "grade": false,
     "locked": true,
     "solution": false
    }
   },
   "source": [
    "**Fin!** This cell marks the end of this problem. If everything works, congratulations! If you haven't done so already, be sure to submit it to get the credit you deserve."
   ]
  }
 ],
 "metadata": {
  "kernelspec": {
   "display_name": "Python 3.8",
   "language": "python",
   "name": "python38"
  },
  "language_info": {
   "codemirror_mode": {
    "name": "ipython",
    "version": 3
   },
   "file_extension": ".py",
   "mimetype": "text/x-python",
   "name": "python",
   "nbconvert_exporter": "python",
   "pygments_lexer": "ipython3",
   "version": "3.8.7"
  }
 },
 "nbformat": 4,
 "nbformat_minor": 2
}
